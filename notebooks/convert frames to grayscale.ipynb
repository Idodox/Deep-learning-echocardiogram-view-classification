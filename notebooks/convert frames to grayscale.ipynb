{
 "cells": [
  {
   "cell_type": "code",
   "execution_count": 1,
   "metadata": {
    "ExecuteTime": {
     "end_time": "2020-03-30T12:38:52.621427Z",
     "start_time": "2020-03-30T12:38:50.155590Z"
    }
   },
   "outputs": [],
   "source": [
    "import os\n",
    "from pathlib import Path\n",
    "import pandas as pd\n",
    "from tqdm.notebook import tqdm\n",
    "from skimage.io import imsave, imread\n",
    "from cv2 import cvtColor, COLOR_BGR2GRAY"
   ]
  },
  {
   "cell_type": "code",
   "execution_count": 7,
   "metadata": {
    "ExecuteTime": {
     "end_time": "2020-03-30T12:40:38.761689Z",
     "start_time": "2020-03-30T12:40:38.756978Z"
    }
   },
   "outputs": [],
   "source": [
    "path = Path('/Users/idofarhi/Documents/Thesis')\n",
    "data_path = path.joinpath('Data', 'frames', 'raw')\n",
    "assert(data_path.is_dir())\n",
    "\n",
    "two_ch = data_path.joinpath('2CH')\n",
    "three_ch = data_path.joinpath('3CH')\n",
    "four_ch = data_path.joinpath('4CH')"
   ]
  },
  {
   "cell_type": "code",
   "execution_count": 14,
   "metadata": {
    "ExecuteTime": {
     "end_time": "2020-03-30T13:11:26.650146Z",
     "start_time": "2020-03-30T12:52:42.567166Z"
    }
   },
   "outputs": [
    {
     "name": "stdout",
     "output_type": "stream",
     "text": [
      "working on class: /Users/idofarhi/Documents/Thesis/Data/frames/raw/2CH\n"
     ]
    },
    {
     "data": {
      "application/vnd.jupyter.widget-view+json": {
       "model_id": "3e831f955a4f427bb56015059cec6622",
       "version_major": 2,
       "version_minor": 0
      },
      "text/plain": [
       "HBox(children=(FloatProgress(value=1.0, bar_style='info', max=1.0), HTML(value='')))"
      ]
     },
     "metadata": {},
     "output_type": "display_data"
    },
    {
     "name": "stdout",
     "output_type": "stream",
     "text": [
      "/Users/idofarhi/Documents/Thesis/Data/frames/raw/2CH/.DS_Store\n",
      "/Users/idofarhi/Documents/Thesis/Data/frames/raw/2CH/YP-179CAR_2CH_97.jpg\n",
      "\n",
      "working on class: /Users/idofarhi/Documents/Thesis/Data/frames/raw/3CH\n"
     ]
    },
    {
     "data": {
      "application/vnd.jupyter.widget-view+json": {
       "model_id": "e1125d3f962e4e5cb570f2daa0043076",
       "version_major": 2,
       "version_minor": 0
      },
      "text/plain": [
       "HBox(children=(FloatProgress(value=1.0, bar_style='info', max=1.0), HTML(value='')))"
      ]
     },
     "metadata": {},
     "output_type": "display_data"
    },
    {
     "name": "stdout",
     "output_type": "stream",
     "text": [
      "/Users/idofarhi/Documents/Thesis/Data/frames/raw/3CH/.DS_Store\n",
      "\n",
      "working on class: /Users/idofarhi/Documents/Thesis/Data/frames/raw/4CH\n"
     ]
    },
    {
     "data": {
      "application/vnd.jupyter.widget-view+json": {
       "model_id": "1ae3430fb1a54e0fb1d1b1e4658e0f80",
       "version_major": 2,
       "version_minor": 0
      },
      "text/plain": [
       "HBox(children=(FloatProgress(value=1.0, bar_style='info', max=1.0), HTML(value='')))"
      ]
     },
     "metadata": {},
     "output_type": "display_data"
    },
    {
     "name": "stdout",
     "output_type": "stream",
     "text": [
      "/Users/idofarhi/Documents/Thesis/Data/frames/raw/4CH/.DS_Store\n",
      "\n"
     ]
    }
   ],
   "source": [
    "for clas in [two_ch, three_ch, four_ch]:\n",
    "    print(\"working on class:\", clas)\n",
    "    for frame_path in tqdm(clas.iterdir()):\n",
    "        try:\n",
    "            if frame_path.name == '.DS_Store': continue\n",
    "            filename = frame_path.name\n",
    "            frame = imread(frame_path)\n",
    "            if len(frame.shape) == 3:\n",
    "                frame = cvtColor(frame, COLOR_BGR2GRAY)\n",
    "                os.remove(frame_path)\n",
    "                imsave(frame_path,frame)\n",
    "        except:\n",
    "            print(frame_path)"
   ]
  },
  {
   "cell_type": "code",
   "execution_count": null,
   "metadata": {},
   "outputs": [],
   "source": []
  }
 ],
 "metadata": {
  "kernelspec": {
   "display_name": "Python 3",
   "language": "python",
   "name": "python3"
  },
  "language_info": {
   "codemirror_mode": {
    "name": "ipython",
    "version": 3
   },
   "file_extension": ".py",
   "mimetype": "text/x-python",
   "name": "python",
   "nbconvert_exporter": "python",
   "pygments_lexer": "ipython3",
   "version": "3.7.6"
  }
 },
 "nbformat": 4,
 "nbformat_minor": 2
}
