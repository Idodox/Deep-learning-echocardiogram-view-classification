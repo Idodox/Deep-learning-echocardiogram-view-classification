{
 "cells": [
  {
   "cell_type": "code",
   "execution_count": 30,
   "metadata": {
    "ExecuteTime": {
     "end_time": "2020-07-12T12:11:37.111869Z",
     "start_time": "2020-07-12T12:11:37.100051Z"
    }
   },
   "outputs": [],
   "source": [
    "import os\n",
    "import pydicom\n",
    "import numpy as np\n",
    "import matplotlib.pyplot as plt\n",
    "from tqdm.notebook import tqdm\n",
    "from pathlib import Path\n",
    "from skimage.io import imsave\n",
    "from cv2 import cvtColor, COLOR_BGR2GRAY\n",
    "from pydicom.pixel_data_handlers.util import convert_color_space\n"
   ]
  },
  {
   "cell_type": "code",
   "execution_count": 31,
   "metadata": {
    "ExecuteTime": {
     "end_time": "2020-07-12T12:11:37.514281Z",
     "start_time": "2020-07-12T12:11:37.505642Z"
    }
   },
   "outputs": [],
   "source": [
    "def load_file(filename):\n",
    "    print(filename)\n",
    "    dicom = pydicom.read_file(str(filename), force = True)\n",
    "    vid = dicom.pixel_array\n",
    "    vid = convert_color_space(vid, 'YBR_FULL', 'RGB')\n",
    "    return vid\n",
    "\n",
    "def write_frames(img_array, video_name, frames_dir, convert_to_grayscale = True):\n",
    "    for i, frame in enumerate(img_array):\n",
    "        output_filename = str(frames_dir) + '/' + str(video_name)[:-4] + \"_\" + str(i) + '.jpg'\n",
    "#         output_filename = output_filename.encode('unicode_escape')\n",
    "        if convert_to_grayscale:\n",
    "            frame = cvtColor(frame, COLOR_BGR2GRAY)\n",
    "#         print(frame.shape)\n",
    "#         break\n",
    "        imsave(output_filename,frame)"
   ]
  },
  {
   "cell_type": "code",
   "execution_count": 32,
   "metadata": {
    "ExecuteTime": {
     "end_time": "2020-07-12T12:25:43.624200Z",
     "start_time": "2020-07-12T12:12:02.398322Z"
    },
    "scrolled": false
   },
   "outputs": [
    {
     "name": "stdout",
     "output_type": "stream",
     "text": [
      "directory doesn't exist, creating it...\n",
      "/Users/idofarhi/Documents/Thesis/Data/test_set/frames/raw/papillary\n"
     ]
    },
    {
     "data": {
      "application/vnd.jupyter.widget-view+json": {
       "model_id": "0d4756ff538a4986a5bd9a5ec87f63c0",
       "version_major": 2,
       "version_minor": 0
      },
      "text/plain": [
       "HBox(children=(FloatProgress(value=1.0, bar_style='info', max=1.0), HTML(value='')))"
      ]
     },
     "metadata": {},
     "output_type": "display_data"
    },
    {
     "name": "stdout",
     "output_type": "stream",
     "text": [
      "/Users/idofarhi/Documents/Thesis/Data/test_set/papillary/dicom/F4QHBKI0.dcm\n",
      "/Users/idofarhi/Documents/Thesis/Data/test_set/papillary/dicom/F4KJO58G.dcm\n",
      "/Users/idofarhi/Documents/Thesis/Data/test_set/papillary/dicom/F4RJ7OPU.dcm\n",
      "/Users/idofarhi/Documents/Thesis/Data/test_set/papillary/dicom/F4QJ1B9S.dcm\n",
      "/Users/idofarhi/Documents/Thesis/Data/test_set/papillary/dicom/F4LJ6N1A.dcm\n",
      "/Users/idofarhi/Documents/Thesis/Data/test_set/papillary/dicom/F4QJ1G20.dcm\n",
      "/Users/idofarhi/Documents/Thesis/Data/test_set/papillary/dicom/F4QHMUKU.dcm\n",
      "/Users/idofarhi/Documents/Thesis/Data/test_set/papillary/dicom/F4QJ5QRC.dcm\n",
      "/Users/idofarhi/Documents/Thesis/Data/test_set/papillary/dicom/F4LK0M0E.dcm\n",
      "/Users/idofarhi/Documents/Thesis/Data/test_set/papillary/dicom/F4LK4HHI.dcm\n",
      "/Users/idofarhi/Documents/Thesis/Data/test_set/papillary/dicom/F4RJKC3I.dcm\n",
      "/Users/idofarhi/Documents/Thesis/Data/test_set/papillary/dicom/F4KJO48E.dcm\n",
      "/Users/idofarhi/Documents/Thesis/Data/test_set/papillary/dicom/F4QJ5O38.dcm\n",
      "/Users/idofarhi/Documents/Thesis/Data/test_set/papillary/dicom/F4RJL1K2.dcm\n",
      "/Users/idofarhi/Documents/Thesis/Data/test_set/papillary/dicom/F4QJ5MR6.dcm\n",
      "/Users/idofarhi/Documents/Thesis/Data/test_set/papillary/dicom/F4RJCGJ2.dcm\n",
      "/Users/idofarhi/Documents/Thesis/Data/test_set/papillary/dicom/F4QJ2IIG.dcm\n",
      "/Users/idofarhi/Documents/Thesis/Data/test_set/papillary/dicom/F4LK4GHG.dcm\n",
      "/Users/idofarhi/Documents/Thesis/Data/test_set/papillary/dicom/F4RJN5SG.dcm\n",
      "/Users/idofarhi/Documents/Thesis/Data/test_set/papillary/dicom/F4QHBDPO.dcm\n",
      "/Users/idofarhi/Documents/Thesis/Data/test_set/papillary/dicom/F4QJ2NAO.dcm\n",
      "/Users/idofarhi/Documents/Thesis/Data/test_set/papillary/dicom/F4QHK8C6.dcm\n",
      "/Users/idofarhi/Documents/Thesis/Data/test_set/papillary/dicom/F4LJ6AH6.dcm\n",
      "/Users/idofarhi/Documents/Thesis/Data/test_set/papillary/dicom/F41FHBRO.dcm\n",
      "/Users/idofarhi/Documents/Thesis/Data/test_set/papillary/dicom/F41FHD3Q.dcm\n",
      "/Users/idofarhi/Documents/Thesis/Data/test_set/papillary/dicom/F4KKRU1O.dcm\n",
      "/Users/idofarhi/Documents/Thesis/Data/test_set/papillary/dicom/F41FHKC4.dcm\n",
      "/Users/idofarhi/Documents/Thesis/Data/test_set/papillary/dicom/F4RJN7SK.dcm\n",
      "/Users/idofarhi/Documents/Thesis/Data/test_set/papillary/dicom/F4KKEI38.dcm\n",
      "/Users/idofarhi/Documents/Thesis/Data/test_set/papillary/dicom/F4QITC9A.dcm\n",
      "/Users/idofarhi/Documents/Thesis/Data/test_set/papillary/dicom/F4RJKURU.dcm\n",
      "/Users/idofarhi/Documents/Thesis/Data/test_set/papillary/dicom/F4QITB18.dcm\n",
      "/Users/idofarhi/Documents/Thesis/Data/test_set/papillary/dicom/F41DBK4C.dcm\n",
      "/Users/idofarhi/Documents/Thesis/Data/test_set/papillary/dicom/F4LJ6190.dcm\n",
      "/Users/idofarhi/Documents/Thesis/Data/test_set/papillary/dicom/F4QHN0T0.dcm\n",
      "/Users/idofarhi/Documents/Thesis/Data/test_set/papillary/dicom/F4RJCDIU.dcm\n",
      "/Users/idofarhi/Documents/Thesis/Data/test_set/papillary/dicom/F4RJN6SI.dcm\n",
      "/Users/idofarhi/Documents/Thesis/Data/test_set/papillary/dicom/F4LK0L8C.dcm\n",
      "/Users/idofarhi/Documents/Thesis/Data/test_set/papillary/dicom/F4RJNBCO.dcm\n",
      "/Users/idofarhi/Documents/Thesis/Data/test_set/papillary/dicom/F4LJ6P9E.dcm\n",
      "/Users/idofarhi/Documents/Thesis/Data/test_set/papillary/dicom/F4KJNTO6.dcm\n",
      "/Users/idofarhi/Documents/Thesis/Data/test_set/papillary/dicom/F4KKRT1M.dcm\n",
      "/Users/idofarhi/Documents/Thesis/Data/test_set/papillary/dicom/F4LJ6O9C.dcm\n",
      "/Users/idofarhi/Documents/Thesis/Data/test_set/papillary/dicom/F41FHJ42.dcm\n",
      "/Users/idofarhi/Documents/Thesis/Data/test_set/papillary/dicom/F4QJ4AIU.dcm\n",
      "/Users/idofarhi/Documents/Thesis/Data/test_set/papillary/dicom/F4QITD9C.dcm\n",
      "/Users/idofarhi/Documents/Thesis/Data/test_set/papillary/dicom/F4QJ2JII.dcm\n",
      "/Users/idofarhi/Documents/Thesis/Data/test_set/papillary/dicom/F4QJ4BB0.dcm\n",
      "/Users/idofarhi/Documents/Thesis/Data/test_set/papillary/dicom/F41DBL4E.dcm\n",
      "\n",
      "directory doesn't exist, creating it...\n",
      "/Users/idofarhi/Documents/Thesis/Data/test_set/frames/raw/apex\n"
     ]
    },
    {
     "data": {
      "application/vnd.jupyter.widget-view+json": {
       "model_id": "399663809c8c46e9909de4b0200d2e13",
       "version_major": 2,
       "version_minor": 0
      },
      "text/plain": [
       "HBox(children=(FloatProgress(value=1.0, bar_style='info', max=1.0), HTML(value='')))"
      ]
     },
     "metadata": {},
     "output_type": "display_data"
    },
    {
     "name": "stdout",
     "output_type": "stream",
     "text": [
      "/Users/idofarhi/Documents/Thesis/Data/test_set/apex/dicom/F4RJKI3Q.dcm\n",
      "/Users/idofarhi/Documents/Thesis/Data/test_set/apex/dicom/F4QHKB4A.dcm\n",
      "/Users/idofarhi/Documents/Thesis/Data/test_set/apex/dicom/F4RJKE3M.dcm\n",
      "/Users/idofarhi/Documents/Thesis/Data/test_set/apex/dicom/F4RJ7PQ0.dcm\n",
      "/Users/idofarhi/Documents/Thesis/Data/test_set/apex/dicom/F4QHBMI2.dcm\n",
      "/Users/idofarhi/Documents/Thesis/Data/test_set/apex/dicom/F4QH8H90.dcm\n",
      "/Users/idofarhi/Documents/Thesis/Data/test_set/apex/dicom/F4QH8PP6.dcm\n",
      "/Users/idofarhi/Documents/Thesis/Data/test_set/apex/dicom/F4QHBNI4.dcm\n",
      "/Users/idofarhi/Documents/Thesis/Data/test_set/apex/dicom/F41DBOCI.dcm\n",
      "/Users/idofarhi/Documents/Thesis/Data/test_set/apex/dicom/F4KKRH1G.dcm\n",
      "/Users/idofarhi/Documents/Thesis/Data/test_set/apex/dicom/F41FHLK6.dcm\n",
      "/Users/idofarhi/Documents/Thesis/Data/test_set/apex/dicom/F4KK3K90.dcm\n",
      "/Users/idofarhi/Documents/Thesis/Data/test_set/apex/dicom/F41DPN8C.dcm\n",
      "/Users/idofarhi/Documents/Thesis/Data/test_set/apex/dicom/F4LJ6Q9G.dcm\n",
      "/Users/idofarhi/Documents/Thesis/Data/test_set/apex/dicom/F4RJPID6.dcm\n",
      "/Users/idofarhi/Documents/Thesis/Data/test_set/apex/dicom/F4KK3DGO.dcm\n",
      "/Users/idofarhi/Documents/Thesis/Data/test_set/apex/dicom/F4KJO68I.dcm\n",
      "/Users/idofarhi/Documents/Thesis/Data/test_set/apex/dicom/F4LJCA36.dcm\n",
      "/Users/idofarhi/Documents/Thesis/Data/test_set/apex/dicom/F4KKRG1E.dcm\n",
      "/Users/idofarhi/Documents/Thesis/Data/test_set/apex/dicom/F41FHMK8.dcm\n",
      "/Users/idofarhi/Documents/Thesis/Data/test_set/apex/dicom/F4QHK9C8.dcm\n",
      "/Users/idofarhi/Documents/Thesis/Data/test_set/apex/dicom/F4KJO78K.dcm\n",
      "/Users/idofarhi/Documents/Thesis/Data/test_set/apex/dicom/F4KKELJE.dcm\n",
      "\n",
      "directory doesn't exist, creating it...\n",
      "/Users/idofarhi/Documents/Thesis/Data/test_set/frames/raw/mitral\n"
     ]
    },
    {
     "data": {
      "application/vnd.jupyter.widget-view+json": {
       "model_id": "5d0461b99f664163b224195e1c1fcc62",
       "version_major": 2,
       "version_minor": 0
      },
      "text/plain": [
       "HBox(children=(FloatProgress(value=1.0, bar_style='info', max=1.0), HTML(value='')))"
      ]
     },
     "metadata": {},
     "output_type": "display_data"
    },
    {
     "name": "stdout",
     "output_type": "stream",
     "text": [
      "/Users/idofarhi/Documents/Thesis/Data/test_set/mitral/dicom/F4RJPE52.dcm\n",
      "/Users/idofarhi/Documents/Thesis/Data/test_set/mitral/dicom/F4RJNAKM.dcm\n",
      "/Users/idofarhi/Documents/Thesis/Data/test_set/mitral/dicom/F4LK0K0A.dcm\n",
      "/Users/idofarhi/Documents/Thesis/Data/test_set/mitral/dicom/F4LK4DPC.dcm\n",
      "/Users/idofarhi/Documents/Thesis/Data/test_set/mitral/dicom/F4QJ2MAM.dcm\n",
      "/Users/idofarhi/Documents/Thesis/Data/test_set/mitral/dicom/F4QHMTKS.dcm\n",
      "/Users/idofarhi/Documents/Thesis/Data/test_set/mitral/dicom/F4QH8IH2.dcm\n",
      "/Users/idofarhi/Documents/Thesis/Data/test_set/mitral/dicom/F41FHHS0.dcm\n",
      "/Users/idofarhi/Documents/Thesis/Data/test_set/mitral/dicom/F4QHK5S2.dcm\n",
      "/Users/idofarhi/Documents/Thesis/Data/test_set/mitral/dicom/F4RJ7NPS.dcm\n",
      "/Users/idofarhi/Documents/Thesis/Data/test_set/mitral/dicom/F4QJ1DPU.dcm\n",
      "/Users/idofarhi/Documents/Thesis/Data/test_set/mitral/dicom/F4QJ49QS.dcm\n",
      "/Users/idofarhi/Documents/Thesis/Data/test_set/mitral/dicom/F4QJ2HAE.dcm\n",
      "/Users/idofarhi/Documents/Thesis/Data/test_set/mitral/dicom/F4KKRS1K.dcm\n",
      "/Users/idofarhi/Documents/Thesis/Data/test_set/mitral/dicom/F4KJO30C.dcm\n",
      "/Users/idofarhi/Documents/Thesis/Data/test_set/mitral/dicom/F41DBHS8.dcm\n",
      "/Users/idofarhi/Documents/Thesis/Data/test_set/mitral/dicom/F4KK3DGO.dcm\n",
      "/Users/idofarhi/Documents/Thesis/Data/test_set/mitral/dicom/F4LJ6M18.dcm\n",
      "/Users/idofarhi/Documents/Thesis/Data/test_set/mitral/dicom/F4QH8K14.dcm\n",
      "/Users/idofarhi/Documents/Thesis/Data/test_set/mitral/dicom/F4QHBGHQ.dcm\n",
      "/Users/idofarhi/Documents/Thesis/Data/test_set/mitral/dicom/F4RJKCRK.dcm\n",
      "/Users/idofarhi/Documents/Thesis/Data/test_set/mitral/dicom/F4QHK744.dcm\n",
      "/Users/idofarhi/Documents/Thesis/Data/test_set/mitral/dicom/F41FHERS.dcm\n",
      "/Users/idofarhi/Documents/Thesis/Data/test_set/mitral/dicom/F41FHGRU.dcm\n",
      "/Users/idofarhi/Documents/Thesis/Data/test_set/mitral/dicom/F41DBJ4A.dcm\n",
      "/Users/idofarhi/Documents/Thesis/Data/test_set/mitral/dicom/F4LJ6292.dcm\n",
      "/Users/idofarhi/Documents/Thesis/Data/test_set/mitral/dicom/F4QHJGBS.dcm\n",
      "/Users/idofarhi/Documents/Thesis/Data/test_set/mitral/dicom/F4KJO188.dcm\n",
      "/Users/idofarhi/Documents/Thesis/Data/test_set/mitral/dicom/F41DBGS6.dcm\n",
      "\n"
     ]
    }
   ],
   "source": [
    "classes = {'apex', 'mitral', 'papillary'}\n",
    "\n",
    "data_path = Path(\"/Users/idofarhi/Documents/Thesis/Data/test_set\")\n",
    "\n",
    "for view in classes:\n",
    "    class_data_path = data_path.joinpath(view, 'dicom')\n",
    "    assert(class_data_path.exists())\n",
    "    \n",
    "    frames_target_path = data_path.joinpath('frames', 'raw', view)\n",
    "    \n",
    "    # Validate frames_target_path exists:\n",
    "    if not frames_target_path.exists():\n",
    "        print(\"directory doesn't exist, creating it...\")\n",
    "        print(frames_target_path)\n",
    "        os.makedirs(frames_target_path)\n",
    "    \n",
    "#     Go through each video and save all frames\n",
    "    for video_name in tqdm(class_data_path.iterdir()):\n",
    "        if video_name.name == \".DS_Store\": continue\n",
    "        video = load_file(class_data_path.joinpath(video_name))\n",
    "        write_frames(video, video_name.name, frames_target_path, convert_to_grayscale = True)"
   ]
  },
  {
   "cell_type": "code",
   "execution_count": 36,
   "metadata": {
    "ExecuteTime": {
     "end_time": "2019-12-30T16:38:59.097262Z",
     "start_time": "2019-12-30T16:38:59.091471Z"
    }
   },
   "outputs": [],
   "source": [
    "from matplotlib.pyplot import imread\n",
    "image = imread('../Data/frames/apex/E1UB4SG2_0.jpg')"
   ]
  },
  {
   "cell_type": "code",
   "execution_count": 37,
   "metadata": {
    "ExecuteTime": {
     "end_time": "2019-12-30T16:38:59.914183Z",
     "start_time": "2019-12-30T16:38:59.909898Z"
    }
   },
   "outputs": [
    {
     "data": {
      "text/plain": [
       "(434, 636)"
      ]
     },
     "execution_count": 37,
     "metadata": {},
     "output_type": "execute_result"
    }
   ],
   "source": [
    "image.shape"
   ]
  },
  {
   "cell_type": "code",
   "execution_count": 39,
   "metadata": {
    "ExecuteTime": {
     "end_time": "2019-12-30T16:39:23.458141Z",
     "start_time": "2019-12-30T16:39:23.194714Z"
    }
   },
   "outputs": [
    {
     "data": {
      "text/plain": [
       "<matplotlib.image.AxesImage at 0x12d8053d0>"
      ]
     },
     "execution_count": 39,
     "metadata": {},
     "output_type": "execute_result"
    },
    {
     "data": {
      "image/png": "[encoded data removed]",
      "text/plain": [
       "<Figure size 432x288 with 1 Axes>"
      ]
     },
     "metadata": {
      "needs_background": "light"
     },
     "output_type": "display_data"
    }
   ],
   "source": [
    "plt.imshow(image, cmap = 'gray')"
   ]
  },
  {
   "cell_type": "code",
   "execution_count": null,
   "metadata": {},
   "outputs": [],
   "source": []
  },
  {
   "cell_type": "code",
   "execution_count": null,
   "metadata": {},
   "outputs": [],
   "source": []
  },
  {
   "cell_type": "code",
   "execution_count": null,
   "metadata": {},
   "outputs": [],
   "source": []
  },
  {
   "cell_type": "code",
   "execution_count": null,
   "metadata": {},
   "outputs": [],
   "source": []
  },
  {
   "cell_type": "code",
   "execution_count": null,
   "metadata": {},
   "outputs": [],
   "source": []
  },
  {
   "cell_type": "code",
   "execution_count": null,
   "metadata": {},
   "outputs": [],
   "source": []
  }
 ],
 "metadata": {
  "kernelspec": {
   "display_name": "Python 3",
   "language": "python",
   "name": "python3"
  },
  "language_info": {
   "codemirror_mode": {
    "name": "ipython",
    "version": 3
   },
   "file_extension": ".py",
   "mimetype": "text/x-python",
   "name": "python",
   "nbconvert_exporter": "python",
   "pygments_lexer": "ipython3",
   "version": "3.7.6"
  }
 },
 "nbformat": 4,
 "nbformat_minor": 2
}
