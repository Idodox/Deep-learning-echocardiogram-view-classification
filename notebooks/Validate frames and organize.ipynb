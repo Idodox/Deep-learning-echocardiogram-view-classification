{
 "cells": [
  {
   "cell_type": "code",
   "execution_count": 1,
   "metadata": {
    "ExecuteTime": {
     "end_time": "2020-03-30T08:25:04.915849Z",
     "start_time": "2020-03-30T08:25:03.541695Z"
    }
   },
   "outputs": [],
   "source": [
    "import os\n",
    "from pathlib import Path\n",
    "import pandas as pd\n",
    "from tqdm import tqdm_notebook"
   ]
  },
  {
   "cell_type": "code",
   "execution_count": 2,
   "metadata": {
    "ExecuteTime": {
     "end_time": "2020-03-30T08:25:05.057220Z",
     "start_time": "2020-03-30T08:25:04.920907Z"
    }
   },
   "outputs": [
    {
     "name": "stdout",
     "output_type": "stream",
     "text": [
      "/Users/idofarhi/Documents/Thesis/Code/notebooks\r\n"
     ]
    }
   ],
   "source": [
    "!pwd"
   ]
  },
  {
   "cell_type": "code",
   "execution_count": 14,
   "metadata": {
    "ExecuteTime": {
     "end_time": "2020-03-30T11:56:59.035970Z",
     "start_time": "2020-03-30T11:56:59.025530Z"
    }
   },
   "outputs": [],
   "source": [
    "path = Path('/Users/idofarhi/Documents/Thesis/Code/notebooks')\n",
    "data_path = path.parent.parent.joinpath('Data', 'frames', 'raw')\n",
    "assert(data_path.is_dir())"
   ]
  },
  {
   "cell_type": "code",
   "execution_count": 15,
   "metadata": {
    "ExecuteTime": {
     "end_time": "2020-03-30T11:56:59.840342Z",
     "start_time": "2020-03-30T11:56:59.835162Z"
    }
   },
   "outputs": [],
   "source": [
    "two_ch = data_path.joinpath('2CH')\n",
    "three_ch = data_path.joinpath('3CH')\n",
    "four_ch = data_path.joinpath('4CH')\n",
    "\n",
    "for folder in [two_ch, three_ch, four_ch]:\n",
    "    assert(folder.is_dir())"
   ]
  },
  {
   "cell_type": "code",
   "execution_count": 16,
   "metadata": {
    "ExecuteTime": {
     "end_time": "2020-03-30T11:57:01.528485Z",
     "start_time": "2020-03-30T11:57:01.523066Z"
    }
   },
   "outputs": [
    {
     "data": {
      "text/plain": [
       "PosixPath('/Users/idofarhi/Documents/Thesis/Data/frames/raw/2CH')"
      ]
     },
     "execution_count": 16,
     "metadata": {},
     "output_type": "execute_result"
    }
   ],
   "source": [
    "two_ch.absolute()"
   ]
  },
  {
   "cell_type": "code",
   "execution_count": 17,
   "metadata": {
    "ExecuteTime": {
     "end_time": "2020-03-30T11:57:02.584643Z",
     "start_time": "2020-03-30T11:57:02.391394Z"
    }
   },
   "outputs": [
    {
     "name": "stdout",
     "output_type": "stream",
     "text": [
      "Checking class 2CH\n",
      "/Users/idofarhi/Documents/Thesis/Data/frames/raw/2CH/AY-022ASA_2CH_115.jpg\n"
     ]
    }
   ],
   "source": [
    "# Validate frame counts based on n_frames file\n",
    "for clas in [two_ch, three_ch, four_ch]:\n",
    "    print(\"Checking class\", clas.name)\n",
    "    for child in clas.iterdir():\n",
    "        if child.name == '.DS_Store': continue\n",
    "        frame_count_file = child.joinpath('n_frames')\n",
    "        if frame_count_file.is_file() is False:\n",
    "            print(child)\n",
    "            break\n",
    "        frame_count = int(frame_count_file.read_text())\n",
    "        counter = -1\n",
    "        for frame in child.iterdir():\n",
    "            if frame.name == '.DS_Store': continue\n",
    "            counter += 1\n",
    "        if frame_count != counter:\n",
    "            print(child)\n",
    "            print(\"Number of frames according to n_frames:\", frame_count)\n",
    "            print(\"Number of frames in folder:\", counter)\n",
    "            #     assert(frame_count == counter)"
   ]
  },
  {
   "cell_type": "code",
   "execution_count": 44,
   "metadata": {
    "ExecuteTime": {
     "end_time": "2020-03-30T08:16:36.359464Z",
     "start_time": "2020-03-30T08:16:36.354686Z"
    }
   },
   "outputs": [
    {
     "data": {
      "text/plain": [
       "'LI00834870_2CH_24'"
      ]
     },
     "execution_count": 44,
     "metadata": {},
     "output_type": "execute_result"
    }
   ],
   "source": [
    "temp.name"
   ]
  },
  {
   "cell_type": "code",
   "execution_count": 12,
   "metadata": {
    "ExecuteTime": {
     "end_time": "2020-03-30T09:29:22.533369Z",
     "start_time": "2020-03-30T09:29:22.174819Z"
    }
   },
   "outputs": [
    {
     "name": "stdout",
     "output_type": "stream",
     "text": [
      "Removing n_frames file and .DS_store in folder: 2CH\n",
      "Removing n_frames file and .DS_store in folder: 3CH\n",
      "Removing n_frames file and .DS_store in folder: 4CH\n"
     ]
    }
   ],
   "source": [
    "# Remove n_frames file and .DS_store if it exists\n",
    "for clas in [two_ch, three_ch, four_ch]:\n",
    "    print(\"Removing n_frames file and .DS_store in folder:\", clas.name)\n",
    "    for child in clas.iterdir():\n",
    "        if child.name == '.DS_Store':\n",
    "            os.remove(child)\n",
    "            continue\n",
    "        for frame in child.iterdir():\n",
    "            if frame.name == '.DS_Store' or frame.name == 'n_frames': \n",
    "                os.remove(frame)"
   ]
  },
  {
   "cell_type": "code",
   "execution_count": null,
   "metadata": {},
   "outputs": [],
   "source": []
  }
 ],
 "metadata": {
  "kernelspec": {
   "display_name": "Python 3",
   "language": "python",
   "name": "python3"
  },
  "language_info": {
   "codemirror_mode": {
    "name": "ipython",
    "version": 3
   },
   "file_extension": ".py",
   "mimetype": "text/x-python",
   "name": "python",
   "nbconvert_exporter": "python",
   "pygments_lexer": "ipython3",
   "version": "3.7.6"
  }
 },
 "nbformat": 4,
 "nbformat_minor": 2
}
