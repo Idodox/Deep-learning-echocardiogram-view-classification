{
 "cells": [
  {
   "cell_type": "markdown",
   "metadata": {},
   "source": [
    "## Verify there are no duplicates accross categories "
   ]
  },
  {
   "cell_type": "code",
   "execution_count": 72,
   "metadata": {
    "ExecuteTime": {
     "end_time": "2019-10-07T12:52:46.419436Z",
     "start_time": "2019-10-07T12:52:46.417002Z"
    }
   },
   "outputs": [],
   "source": [
    "import os\n",
    "import pandas as pd\n",
    "from tqdm import tqdm_notebook"
   ]
  },
  {
   "cell_type": "code",
   "execution_count": 60,
   "metadata": {
    "ExecuteTime": {
     "end_time": "2019-10-07T12:48:05.546216Z",
     "start_time": "2019-10-07T12:48:05.541316Z"
    }
   },
   "outputs": [],
   "source": [
    "parent_dir = os.path.dirname(os.getcwd())\n",
    "data_dir = os.path.join(parent_dir, 'Data')\n",
    "\n",
    "apex_files = os.listdir(os.path.join(data_dir, 'apex'))\n",
    "papillary_files = os.listdir(os.path.join(data_dir, 'papillary'))\n",
    "mitral_files = os.listdir(os.path.join(data_dir, 'mitral'))"
   ]
  },
  {
   "cell_type": "code",
   "execution_count": 79,
   "metadata": {
    "ExecuteTime": {
     "end_time": "2019-10-07T13:01:41.457303Z",
     "start_time": "2019-10-07T13:01:41.452916Z"
    }
   },
   "outputs": [],
   "source": [
    "if '.DS_Store' in apex_files: apex_files.remove('.DS_Store')\n",
    "if '.DS_Store' in papillary_files: papillary_files.remove('.DS_Store')\n",
    "if '.DS_Store' in mitral_files: mitral_files.remove('.DS_Store')\n",
    "    \n",
    "for file in apex_files:\n",
    "    if file in papillary_files:\n",
    "        print('Found duplicate file in apex & papillary. File name:', file)\n",
    "    if file in mitral_files:\n",
    "        print('Found duplicate file in apex & mitral. File name:', file) \n",
    "for file in mitral_files:\n",
    "    if file in papillary_files:\n",
    "        print('Found duplicate file in mitral & papillary. File name:', file) "
   ]
  },
  {
   "cell_type": "code",
   "execution_count": 80,
   "metadata": {
    "ExecuteTime": {
     "end_time": "2019-10-07T13:01:41.644882Z",
     "start_time": "2019-10-07T13:01:41.641273Z"
    }
   },
   "outputs": [
    {
     "name": "stdout",
     "output_type": "stream",
     "text": [
      "Number of apex videos: 41\n",
      "Number of papillary videos: 86\n",
      "Number of mitral videos: 41\n"
     ]
    }
   ],
   "source": [
    "print('Number of apex videos:', len(apex_files))\n",
    "print('Number of papillary videos:', len(papillary_files))\n",
    "print('Number of mitral videos:', len(mitral_files))"
   ]
  },
  {
   "cell_type": "markdown",
   "metadata": {},
   "source": [
    "## Organize data into folders"
   ]
  },
  {
   "cell_type": "code",
   "execution_count": 81,
   "metadata": {
    "ExecuteTime": {
     "end_time": "2019-10-07T13:01:42.309421Z",
     "start_time": "2019-10-07T13:01:42.302868Z"
    }
   },
   "outputs": [],
   "source": [
    "# read labels ssv\n",
    "class_labels = pd.read_csv(os.path.join(data_dir, 'file_classification.csv'), delim_whitespace = True)"
   ]
  },
  {
   "cell_type": "code",
   "execution_count": 86,
   "metadata": {
    "ExecuteTime": {
     "end_time": "2019-10-07T13:08:38.735336Z",
     "start_time": "2019-10-07T13:08:38.732515Z"
    }
   },
   "outputs": [
    {
     "name": "stdout",
     "output_type": "stream",
     "text": [
      "/Users/idofarhi/Documents/Thesis/Data/to_organize/O1102118/F4MG68G6.dcm\n",
      "/Users/idofarhi/Documents/Thesis/Data/to_organize/O1102118/F4MG68G6\n"
     ]
    }
   ],
   "source": [
    "print(current_path)\n",
    "print(current_path[:-4])"
   ]
  },
  {
   "cell_type": "code",
   "execution_count": 92,
   "metadata": {
    "ExecuteTime": {
     "end_time": "2019-10-07T13:11:52.286982Z",
     "start_time": "2019-10-07T13:11:52.154119Z"
    },
    "scrolled": false
   },
   "outputs": [
    {
     "data": {
      "application/vnd.jupyter.widget-view+json": {
       "model_id": "ada8f8ff0da04fc1a70f1a22f3c90e9a",
       "version_major": 2,
       "version_minor": 0
      },
      "text/plain": [
       "HBox(children=(IntProgress(value=1, bar_style='info', max=1), HTML(value='')))"
      ]
     },
     "metadata": {},
     "output_type": "display_data"
    },
    {
     "name": "stdout",
     "output_type": "stream",
     "text": [
      "\n",
      "300\n"
     ]
    }
   ],
   "source": [
    "count_moved_files = 0\n",
    "for row in tqdm_notebook(class_labels.iterrows()):\n",
    "    folder = row[1][0]\n",
    "    file = row[1][1]\n",
    "    classification = row[1][2]\n",
    "    if classification not in ['apex', 'mitral', 'papillary']:\n",
    "#         print('Unknown class', classification, 'for folder', folder, 'and file', file, '... skipping.')\n",
    "        continue\n",
    "    current_path = os.path.join(data_dir, 'to_organize', folder, file + '.dcm')\n",
    "    new_path = os.path.join(data_dir, classification, file + '.dcm')\n",
    "    if os.path.exists(current_path):\n",
    "        os.rename(current_path, new_path)\n",
    "        count_moved_files += 1\n",
    "    # option in case dcm extension is missing. This will add it in the new location.\n",
    "    elif os.path.exists(current_path[:-4]):\n",
    "        os.rename(current_path[:-4], new_path)\n",
    "        count_moved_files += 1\n",
    "    elif os.path.exists(new_path):\n",
    "        count_moved_files += 1\n",
    "    else:\n",
    "        print('File at:', current_path, 'not found.')\n",
    "\n",
    "print(count_moved_files)"
   ]
  },
  {
   "cell_type": "code",
   "execution_count": null,
   "metadata": {},
   "outputs": [],
   "source": []
  },
  {
   "cell_type": "code",
   "execution_count": null,
   "metadata": {},
   "outputs": [],
   "source": []
  },
  {
   "cell_type": "code",
   "execution_count": null,
   "metadata": {},
   "outputs": [],
   "source": []
  },
  {
   "cell_type": "code",
   "execution_count": null,
   "metadata": {},
   "outputs": [],
   "source": []
  }
 ],
 "metadata": {
  "kernelspec": {
   "display_name": "Python 3",
   "language": "python",
   "name": "python3"
  },
  "language_info": {
   "codemirror_mode": {
    "name": "ipython",
    "version": 3
   },
   "file_extension": ".py",
   "mimetype": "text/x-python",
   "name": "python",
   "nbconvert_exporter": "python",
   "pygments_lexer": "ipython3",
   "version": "3.7.6"
  }
 },
 "nbformat": 4,
 "nbformat_minor": 2
}
