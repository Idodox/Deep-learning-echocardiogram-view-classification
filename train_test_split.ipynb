{
 "cells": [
  {
   "cell_type": "markdown",
   "metadata": {},
   "source": [
    "## This notebook splits the movie files into train and test groups"
   ]
  },
  {
   "cell_type": "code",
   "execution_count": 2,
   "metadata": {
    "ExecuteTime": {
     "end_time": "2019-10-08T07:22:56.402917Z",
     "start_time": "2019-10-08T07:22:56.400216Z"
    }
   },
   "outputs": [],
   "source": [
    "import os\n",
    "parent_dir = os.path.dirname(os.getcwd())\n",
    "# os.chdir(parent_dir)"
   ]
  },
  {
   "cell_type": "code",
   "execution_count": 7,
   "metadata": {
    "ExecuteTime": {
     "end_time": "2019-10-08T07:24:08.059653Z",
     "start_time": "2019-10-08T07:24:08.053504Z"
    }
   },
   "outputs": [
    {
     "name": "stdout",
     "output_type": "stream",
     "text": [
      "{'apex': [], 'papillary': [], 'mitral': []}\n"
     ]
    }
   ],
   "source": [
    "# Create a dictionary with video file names for each class\n",
    "file_names = {}\n",
    "classes = {'apex':'1', 'papillary':'2', 'mitral':'3'}\n",
    "for clas in classes.keys():\n",
    "    avi_files = [f for f in os.listdir(os.path.join(parent_dir, 'Data', clas)) if f[-3:] == 'avi']\n",
    "    file_names[clas] = avi_files\n",
    "    \n",
    "# Prepare dictionary for writing to train/test list files\n",
    "for clas in file_names.keys():\n",
    "    file_names[clas] = [clas + '/' + string + ' ' + classes[clas] for string in file_names[clas]]\n",
    "\n",
    "print(file_names)"
   ]
  },
  {
   "cell_type": "code",
   "execution_count": 3,
   "metadata": {
    "ExecuteTime": {
     "end_time": "2019-10-08T07:16:44.022531Z",
     "start_time": "2019-10-08T07:16:44.020036Z"
    }
   },
   "outputs": [],
   "source": [
    "PERCENT_TEST = 0.2"
   ]
  },
  {
   "cell_type": "code",
   "execution_count": 4,
   "metadata": {
    "ExecuteTime": {
     "end_time": "2019-10-08T07:16:44.920817Z",
     "start_time": "2019-10-08T07:16:44.833329Z"
    }
   },
   "outputs": [
    {
     "name": "stdout",
     "output_type": "stream",
     "text": [
      "Creating folder Train_test_list\n"
     ]
    },
    {
     "ename": "NameError",
     "evalue": "name 'file_names_train' is not defined",
     "output_type": "error",
     "traceback": [
      "\u001b[0;31m---------------------------------------------------------------------------\u001b[0m",
      "\u001b[0;31mNameError\u001b[0m                                 Traceback (most recent call last)",
      "\u001b[0;32m<ipython-input-4-b527112fb3a6>\u001b[0m in \u001b[0;36m<module>\u001b[0;34m\u001b[0m\n\u001b[1;32m     12\u001b[0m \u001b[0;34m\u001b[0m\u001b[0m\n\u001b[1;32m     13\u001b[0m \u001b[0;32mwith\u001b[0m \u001b[0mopen\u001b[0m\u001b[0;34m(\u001b[0m\u001b[0;34m'Train_test_list/trainlist01.txt'\u001b[0m\u001b[0;34m,\u001b[0m \u001b[0;34m'w'\u001b[0m\u001b[0;34m)\u001b[0m \u001b[0;32mas\u001b[0m \u001b[0mf\u001b[0m\u001b[0;34m:\u001b[0m\u001b[0;34m\u001b[0m\u001b[0;34m\u001b[0m\u001b[0m\n\u001b[0;32m---> 14\u001b[0;31m     \u001b[0;32mfor\u001b[0m \u001b[0mc\u001b[0m \u001b[0;32min\u001b[0m \u001b[0mfile_names_train\u001b[0m\u001b[0;34m.\u001b[0m\u001b[0mkeys\u001b[0m\u001b[0;34m(\u001b[0m\u001b[0;34m)\u001b[0m\u001b[0;34m:\u001b[0m\u001b[0;34m\u001b[0m\u001b[0;34m\u001b[0m\u001b[0m\n\u001b[0m\u001b[1;32m     15\u001b[0m         \u001b[0;32mfor\u001b[0m \u001b[0mitem\u001b[0m \u001b[0;32min\u001b[0m \u001b[0mfile_names_train\u001b[0m\u001b[0;34m[\u001b[0m\u001b[0mc\u001b[0m\u001b[0;34m]\u001b[0m\u001b[0;34m:\u001b[0m\u001b[0;34m\u001b[0m\u001b[0;34m\u001b[0m\u001b[0m\n\u001b[1;32m     16\u001b[0m             \u001b[0mf\u001b[0m\u001b[0;34m.\u001b[0m\u001b[0mwrite\u001b[0m\u001b[0;34m(\u001b[0m\u001b[0;34m\"%s\\n\"\u001b[0m \u001b[0;34m%\u001b[0m \u001b[0mitem\u001b[0m\u001b[0;34m)\u001b[0m\u001b[0;34m\u001b[0m\u001b[0;34m\u001b[0m\u001b[0m\n",
      "\u001b[0;31mNameError\u001b[0m: name 'file_names_train' is not defined"
     ]
    }
   ],
   "source": [
    "# Check if trainlist01/testlist01 exist and if not create them\n",
    "# Fill the train and test files for each class in the respective file\n",
    "\n",
    "if not os.path.exists('Train_test_list'):\n",
    "    print(\"Creating folder Train_test_list\")\n",
    "    os.makedirs('Train_test_list')\n",
    "\n",
    "if os.path.exists('Train_test_list/trainlist01.txt'):\n",
    "    os.remove('Train_test_list/trainlist01.txt')\n",
    "if os.path.exists('Train_test_list/testlist01.txt'):\n",
    "    os.remove('Train_test_list/testlist01.txt')\n",
    "\n",
    "with open('Train_test_list/trainlist01.txt', 'w') as f:\n",
    "    for c in file_names_train.keys():\n",
    "        for item in file_names_train[c]:\n",
    "            f.write(\"%s\\n\" % item)\n",
    "\n",
    "with open('Train_test_list/testlist01.txt', 'w') as f:\n",
    "    for c in file_names_test.keys():\n",
    "        for item in file_names_test[c]:\n",
    "            f.write(\"%s\\n\" % item)"
   ]
  },
  {
   "cell_type": "code",
   "execution_count": null,
   "metadata": {},
   "outputs": [],
   "source": []
  }
 ],
 "metadata": {
  "kernelspec": {
   "display_name": "Python 3",
   "language": "python",
   "name": "python3"
  },
  "language_info": {
   "codemirror_mode": {
    "name": "ipython",
    "version": 3
   },
   "file_extension": ".py",
   "mimetype": "text/x-python",
   "name": "python",
   "nbconvert_exporter": "python",
   "pygments_lexer": "ipython3",
   "version": "3.7.2"
  }
 },
 "nbformat": 4,
 "nbformat_minor": 2
}
