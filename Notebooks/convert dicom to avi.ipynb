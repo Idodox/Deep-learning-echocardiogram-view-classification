{
 "cells": [
  {
   "cell_type": "code",
   "execution_count": 36,
   "metadata": {
    "ExecuteTime": {
     "end_time": "2019-10-16T14:27:30.397320Z",
     "start_time": "2019-10-16T14:27:30.328770Z"
    }
   },
   "outputs": [],
   "source": [
    "import os\n",
    "import cv2\n",
    "import pydicom\n",
    "import numpy as np\n",
    "import matplotlib.pyplot as plt\n",
    "from tqdm.notebook import tqdm\n",
    "\n",
    "%matplotlib notebook"
   ]
  },
  {
   "cell_type": "code",
   "execution_count": 38,
   "metadata": {
    "ExecuteTime": {
     "end_time": "2019-10-16T14:44:34.325118Z",
     "start_time": "2019-10-16T14:44:34.317227Z"
    }
   },
   "outputs": [],
   "source": [
    "def loadFile(filename):\n",
    "    dicom = pydicom.read_file(filename)\n",
    "    vid = dicom.pixel_array\n",
    "    return vid\n",
    "\n",
    "# CURRENTLY NOT IN USE\n",
    "def preProcess(image_array, clip_limit = 3):\n",
    "    img_array_list = []\n",
    "    for image in image_array:\n",
    "        # convert image to LAB color model\n",
    "        image_lab = cv2.cvtColor(image, cv2.COLOR_BGR2LAB)\n",
    "\n",
    "        # split the image into L, A, and B channels\n",
    "        l_channel, a_channel, b_channel = cv2.split(image_lab)\n",
    "\n",
    "        # apply CLAHE to lightness channel\n",
    "        clahe = cv2.createCLAHE(clipLimit=clip_limit, tileGridSize=(4, 4))\n",
    "        cl = clahe.apply(l_channel)\n",
    "\n",
    "        # merge the CLAHE enhanced L channel with the original A and B channel\n",
    "        merged_channels = cv2.merge((cl, a_channel, b_channel))\n",
    "\n",
    "        # convert iamge from LAB color model back to RGB color model\n",
    "        img = cv2.cvtColor(merged_channels, cv2.COLOR_LAB2BGR)\n",
    "        final_image = cv2.bilateralFilter(img, 7, sigmaSpace = 75, sigmaColor =75)\n",
    "        img_array_list.append(final_image)\n",
    "    \n",
    "    image_array_limited_equalized = np.array(img_array_list)\n",
    "    return image_array_limited_equalized\n",
    "\n",
    "\n",
    "def writeVideo(img_array, filename, directory):\n",
    "    frame_num, height, width, ch = img_array.shape\n",
    "    filename_output = directory + '/' + filename + '.avi'        \n",
    "    fourcc = cv2.VideoWriter_fourcc(*'XVID')\n",
    "    video = cv2.VideoWriter(filename_output, fourcc, 15, (width, height))       \n",
    "    for img in img_array:\n",
    "#         img_rgb = cv2.cvtColor(img, cv2.COLOR_GRAY2BGR)\n",
    "        video.write(img) # Write video file frame by frame\n",
    "    video.release()"
   ]
  },
  {
   "cell_type": "code",
   "execution_count": null,
   "metadata": {},
   "outputs": [],
   "source": [
    "writeVideo(vid1.pixel_array, output_directory)"
   ]
  },
  {
   "cell_type": "markdown",
   "metadata": {},
   "source": [
    "### Convert dicoms in each class to AVI\n"
   ]
  },
  {
   "cell_type": "code",
   "execution_count": 42,
   "metadata": {
    "ExecuteTime": {
     "end_time": "2019-10-16T14:53:14.588034Z",
     "start_time": "2019-10-16T14:48:32.369215Z"
    }
   },
   "outputs": [
    {
     "data": {
      "application/vnd.jupyter.widget-view+json": {
       "model_id": "09f02b8267a84bd8a8ed8e12e6368971",
       "version_major": 2,
       "version_minor": 0
      },
      "text/plain": [
       "HBox(children=(IntProgress(value=0, max=154), HTML(value='')))"
      ]
     },
     "metadata": {},
     "output_type": "display_data"
    },
    {
     "name": "stdout",
     "output_type": "stream",
     "text": [
      "\n"
     ]
    },
    {
     "data": {
      "application/vnd.jupyter.widget-view+json": {
       "model_id": "d3b7e72c9b144b46879968b5a2431af9",
       "version_major": 2,
       "version_minor": 0
      },
      "text/plain": [
       "HBox(children=(IntProgress(value=0, max=207), HTML(value='')))"
      ]
     },
     "metadata": {},
     "output_type": "display_data"
    },
    {
     "name": "stdout",
     "output_type": "stream",
     "text": [
      "\n"
     ]
    },
    {
     "data": {
      "application/vnd.jupyter.widget-view+json": {
       "model_id": "25e55c6a303f4913a1f31d8d0823a9ad",
       "version_major": 2,
       "version_minor": 0
      },
      "text/plain": [
       "HBox(children=(IntProgress(value=0, max=107), HTML(value='')))"
      ]
     },
     "metadata": {},
     "output_type": "display_data"
    },
    {
     "name": "stdout",
     "output_type": "stream",
     "text": [
      "\n"
     ]
    }
   ],
   "source": [
    "classes = {'apex', 'mitral', 'papillary'}\n",
    "for clas in classes:\n",
    "    parent_dir = os.path.dirname(os.getcwd())\n",
    "    avi_dir = os.path.join(parent_dir, \"data\", clas, \"avi\")\n",
    "    dicom_dir = os.path.join(parent_dir, \"Data\", clas, \"dicom\")\n",
    "    \n",
    "    video_list = os.listdir(dicom_dir)\n",
    "    if '.DS_Store' in video_list: video_list.remove('.DS_Store')\n",
    "    \n",
    "    for video_name in tqdm(video_list):\n",
    "        vid = loadFile(os.path.join(dicom_dir, video_name))\n",
    "        writeVideo(vid, video_name[:-4], avi_dir)"
   ]
  },
  {
   "cell_type": "code",
   "execution_count": null,
   "metadata": {},
   "outputs": [],
   "source": []
  }
 ],
 "metadata": {
  "kernelspec": {
   "display_name": "Python 3",
   "language": "python",
   "name": "python3"
  },
  "language_info": {
   "codemirror_mode": {
    "name": "ipython",
    "version": 3
   },
   "file_extension": ".py",
   "mimetype": "text/x-python",
   "name": "python",
   "nbconvert_exporter": "python",
   "pygments_lexer": "ipython3",
   "version": "3.7.6"
  }
 },
 "nbformat": 4,
 "nbformat_minor": 2
}
